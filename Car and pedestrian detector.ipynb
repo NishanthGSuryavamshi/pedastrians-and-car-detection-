{
 "cells": [
  {
   "cell_type": "code",
   "execution_count": 1,
   "id": "5497e012",
   "metadata": {},
   "outputs": [],
   "source": [
    "import cv2\n",
    "fullbody_classifier=cv2.CascadeClassifier(r'C:\\Users\\vamsh\\Downloads\\Computer-Vision-Tutorial-master (1)\\Computer-Vision-Tutorial-master\\Haarcascades\\haarcascade_fullbody.xml')\n",
    "car_classifier=cv2.CascadeClassifier(r'C:\\Users\\vamsh\\Downloads\\Computer-Vision-Tutorial-master (1)\\Computer-Vision-Tutorial-master\\Haarcascades\\haarcascade_car.xml')"
   ]
  },
  {
   "cell_type": "code",
   "execution_count": 21,
   "id": "5aa4d248",
   "metadata": {},
   "outputs": [],
   "source": [
    "def car_ped_detector(image,size=.5):\n",
    "    gray=cv2.cvtColor(image,cv2.COLOR_BGR2GRAY)\n",
    "    car=car_classifier.detectMultiScale(gray,1.3,5)\n",
    "    ped=fullbody_classifier.detectMultiScale(gray,1.3,5)\n",
    "   \n",
    "    \n",
    "    for (x,y,w,h) in car:\n",
    "        cv2.rectangle(image,(x,y),(x+w,y+h),(255,0,0),2)\n",
    "        #cv2.rectangle(image,(e,f),(e+l,f+m),(0,0,255),2)\n",
    "        for (px,py,pw,ph) in ped:\n",
    "            cv2.rectangle(image,(px,py),(px+pw,py+ph),(0,0,255),3)\n",
    "    return image\n",
    "\n",
    "\n",
    "cap = cv2.VideoCapture(r\"C:\\Users\\vamsh\\Downloads\\nw city.mp4\")\n",
    "\n",
    "while True:\n",
    "\n",
    "    ret, frame = cap.read()\n",
    "    cv2.imshow('car and pedastrians', car_ped_detector(frame))\n",
    "    if cv2.waitKey(1) == 13: #13 is the Enter Key\n",
    "        break\n",
    "        \n",
    "cap.release()\n",
    "cv2.destroyAllWindows()    "
   ]
  },
  {
   "cell_type": "code",
   "execution_count": null,
   "id": "2f025f26",
   "metadata": {},
   "outputs": [],
   "source": []
  }
 ],
 "metadata": {
  "kernelspec": {
   "display_name": "Python 3 (ipykernel)",
   "language": "python",
   "name": "python3"
  },
  "language_info": {
   "codemirror_mode": {
    "name": "ipython",
    "version": 3
   },
   "file_extension": ".py",
   "mimetype": "text/x-python",
   "name": "python",
   "nbconvert_exporter": "python",
   "pygments_lexer": "ipython3",
   "version": "3.9.7"
  }
 },
 "nbformat": 4,
 "nbformat_minor": 5
}
